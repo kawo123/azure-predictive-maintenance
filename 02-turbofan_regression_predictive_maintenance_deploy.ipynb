{
 "cells": [
  {
   "cell_type": "markdown",
   "metadata": {},
   "source": [
    "# Introduction\n",
    "\n",
    "In this notebook, we demonstrate the steps needed to create an IoT Edge deployable module from the regression model created in the [turbofan regression](./01-turbofan_regression_predictive_maintenance_train.ipynb) notebook. The steps we will follow are:\n",
    "   1. Reload experiment and model from the Azure Machine Learning service workspace\n",
    "   1. Create a scoring script\n",
    "   1. Create an environment YAML file\n",
    "   1. Create a container image using the model, scoring script and YAML file\n",
    "   1. Deploy the container image as a web service \n",
    "   1. Test the web service to make sure the container works as expected\n",
    "   1. Delete the web service\n",
    "   \n",
    "><font color=gray>Note: this notebook depends on the workspace, experiment and model created in the [turbofan regression](./01-turbofan_regression_predictive_maintenance_train) notebook.</font>"
   ]
  },
  {
   "cell_type": "markdown",
   "metadata": {},
   "source": [
    "# Set up notebook\n",
    "\n",
    "Please ensure that you are running this notebook under the Python 3.6 Kernel. The current kernel is show on the top of the notebook at the far right side of the file menu. If you are not running Python 3.6 you can change it in the file menu by clicking **Kernel->Change Kernel->Python 3.6**"
   ]
  },
  {
   "cell_type": "code",
   "execution_count": null,
   "metadata": {},
   "outputs": [],
   "source": [
    "from IPython.core.interactiveshell import InteractiveShell\n",
    "InteractiveShell.ast_node_interactivity = \"all\"\n",
    "\n",
    "%matplotlib inline"
   ]
  },
  {
   "cell_type": "markdown",
   "metadata": {},
   "source": [
    "## Configure workspace\n",
    "\n",
    "Create a workspace object from the existing workspace. `Workspace.from_config()` reads the file **aml_config/.azureml/config.json** and loads the details into an object named `ws`, which is used throughout the rest of the code in this notebook."
   ]
  },
  {
   "cell_type": "code",
   "execution_count": null,
   "metadata": {},
   "outputs": [],
   "source": [
    "from azureml.core.workspace import Workspace\n",
    "from azureml.core.experiment import Experiment\n",
    "from azureml.core.model import Model\n",
    "from azureml.train.automl.run import AutoMLRun\n",
    "\n",
    "ws = Workspace.from_config()"
   ]
  },
  {
   "cell_type": "markdown",
   "metadata": {},
   "source": [
    "## Load run, experiment and model\n",
    "\n",
    "Use the model information that we persisted in the [turbofan regression](./01-turbofan_regression_predictive_maintenance_train) noebook to load our model."
   ]
  },
  {
   "cell_type": "code",
   "execution_count": null,
   "metadata": {},
   "outputs": [],
   "source": [
    "import json \n",
    "\n",
    "#name project folder and experiment\n",
    "model_data = json.load(open('./aml_config/model_config.json'))\n",
    "\n",
    "run_id = model_data['regressionRunId']\n",
    "experiment_name = model_data['experimentName']\n",
    "model_id = model_data['modelId']\n",
    "\n",
    "experiment = Experiment(ws, experiment_name)\n",
    "automl_run = AutoMLRun(experiment = experiment, run_id = run_id)\n",
    "model = Model(ws, model_id)"
   ]
  },
  {
   "cell_type": "markdown",
   "metadata": {},
   "source": [
    "# Create scoring script\n",
    "\n",
    "The scoring script is the piece of code that runs inside the container and interacts with the model to return a prediction to the caller of web service or Azure IoT Edge module that is running the container. The scoring script is authored knowing the shape of the message that will be sent to the container. In our case, we have chosen to format the message as:\n",
    "\n",
    "```json\n",
    "[{\n",
    "    \"DeviceId\": 81,\n",
    "    \"CycleTime\": 140,\n",
    "    \"OperationalSetting1\": 0.0,\n",
    "    \"OperationalSetting2\": -0.0002,\n",
    "    \"OperationalSetting3\": 100.0,\n",
    "    \"Sensor1\": 518.67,\n",
    "    \"Sensor2\": 642.43,\n",
    "    \"Sensor3\": 1596.02,\n",
    "    \"Sensor4\": 1404.4,\n",
    "    \"Sensor5\": 14.62,\n",
    "    \"Sensor6\": 21.6,\n",
    "    \"Sensor7\": 559.76,\n",
    "    \"Sensor8\": 2388.19,\n",
    "    \"Sensor9\": 9082.16,\n",
    "    \"Sensor10\": 1.31,\n",
    "    \"Sensor11\": 47.6,\n",
    "    \"Sensor12\": 527.82,\n",
    "    \"Sensor13\": 2388.17,\n",
    "    \"Sensor14\": 8155.92,\n",
    "    \"Sensor15\": 8.3214,\n",
    "    \"Sensor16\": 0.03,\n",
    "    \"Sensor17\": 393.0,\n",
    "    \"Sensor18\": 2388.0,\n",
    "    \"Sensor19\": 100.0,\n",
    "    \"Sensor20\": 39.41,\n",
    "    \"Sensor21\": 23.5488\n",
    "}]\n",
    "```"
   ]
  },
  {
   "cell_type": "code",
   "execution_count": null,
   "metadata": {},
   "outputs": [],
   "source": [
    "script_file_name = 'score.py'"
   ]
  },
  {
   "cell_type": "code",
   "execution_count": null,
   "metadata": {},
   "outputs": [],
   "source": [
    "%%writefile $script_file_name\n",
    "import pickle\n",
    "import json\n",
    "import numpy as np\n",
    "import pandas as pd\n",
    "import azureml.train.automl\n",
    "from sklearn.externals import joblib\n",
    "from azureml.core.model import Model\n",
    "\n",
    "def init():\n",
    "    global model\n",
    "    model_path = Model.get_model_path(model_name = '<<modelname>>')\n",
    "    # deserialize the model file back into a sklearn model\n",
    "    model = joblib.load(model_path)\n",
    "    \n",
    "def unpack_message(raw_data):\n",
    "    message_data = json.loads(raw_data)\n",
    "    # convert single message to list \n",
    "    if type(message_data) is dict:\n",
    "        message_data = [message_data]\n",
    "    return message_data\n",
    "    \n",
    "def extract_features(message_data):\n",
    "    X_data = []\n",
    "    sensor_names = ['Sensor'+str(i) for i in range(1,22)]\n",
    "    \n",
    "    for message in message_data:\n",
    "        # select sensor data from the message dictionary\n",
    "        feature_dict = {k: message[k] for k in (sensor_names)}\n",
    "        X_data.append(feature_dict)\n",
    "    \n",
    "    X_df = pd.DataFrame(X_data)\n",
    "    return np.array(X_df[sensor_names].values)\n",
    "\n",
    "def append_predict_data(message_data, y_hat):\n",
    "    message_df = pd.DataFrame(message_data)\n",
    "    message_df['PredictedRul'] = y_hat\n",
    "    return message_df.to_dict('records')\n",
    "\n",
    "def log_for_debug(log_message, log_data):\n",
    "    print(\"*****%s:\" % log_message)\n",
    "    print(log_data)\n",
    "    print(\"******\")\n",
    "\n",
    "def run(raw_data):\n",
    "    log_for_debug(\"raw_data\", raw_data)\n",
    "    \n",
    "    message_data = unpack_message(raw_data)\n",
    "    log_for_debug(\"message_data\", message_data)\n",
    "    \n",
    "    X_data = extract_features(message_data)\n",
    "    log_for_debug(\"X_data\", X_data)\n",
    "   \n",
    "    # make prediction\n",
    "    y_hat = model.predict(X_data)\n",
    "    \n",
    "    response_data = append_predict_data(message_data, y_hat)\n",
    "    return response_data"
   ]
  },
  {
   "cell_type": "markdown",
   "metadata": {},
   "source": [
    "### Update the scoring script with the actual model ID"
   ]
  },
  {
   "cell_type": "code",
   "execution_count": null,
   "metadata": {},
   "outputs": [],
   "source": [
    "# Substitute the actual model id in the script file.\n",
    "\n",
    "with open(script_file_name, 'r') as cefr:\n",
    "    content = cefr.read()\n",
    "\n",
    "with open(script_file_name, 'w') as cefw:\n",
    "    cefw.write(content.replace('<<modelname>>', model.name))"
   ]
  },
  {
   "cell_type": "markdown",
   "metadata": {},
   "source": [
    "## Create YAML file for the environment\n",
    "\n",
    "The YAML file provides the information about the dependencies for the model we will deploy. \n",
    "\n",
    "### Get azureml versions\n",
    "\n",
    "First we will use the run to retrieve the version of the azureml packages used to train the model. \n",
    "\n",
    ">Warnings about the version of the SDK not matching with the training version are expected "
   ]
  },
  {
   "cell_type": "code",
   "execution_count": null,
   "metadata": {},
   "outputs": [],
   "source": [
    "best_run, fitted_model = automl_run.get_output()\n",
    "iteration = int(best_run.get_properties()['iteration'])\n",
    "dependencies = automl_run.get_run_sdk_dependencies(iteration = iteration)\n",
    "\n",
    "print(dependencies)"
   ]
  },
  {
   "cell_type": "markdown",
   "metadata": {},
   "source": [
    "## Deploy model as a web service on Azure Container Instance\n",
    "\n",
    "Deploy the best model we just created as web service on Azure Container Instance (ACI). We will use this web service to test that our model/container performs as expected. "
   ]
  },
  {
   "cell_type": "code",
   "execution_count": null,
   "metadata": {},
   "outputs": [],
   "source": [
    "script_file_name = 'score_turboban_rul.py'\n",
    "best_run.download_file('outputs/scoring_file_v_1_0_0.py', script_file_name)"
   ]
  },
  {
   "cell_type": "code",
   "execution_count": null,
   "metadata": {},
   "outputs": [],
   "source": [
    "from azureml.core.model import InferenceConfig\n",
    "from azureml.core.webservice import AciWebservice\n",
    "from azureml.core.webservice import Webservice\n",
    "from azureml.core.model import Model\n",
    "\n",
    "inference_config = InferenceConfig(environment = best_run.get_environment(), \n",
    "                                   entry_script = script_file_name)\n",
    "\n",
    "aci_config = AciWebservice.deploy_configuration(cpu_cores = 1, \n",
    "                                                memory_gb = 1, \n",
    "                                                tags = {'area': \"digits\", 'type': \"automl_RUL\"}, \n",
    "                                                description = 'test service for Edge ML RUL')\n",
    "\n",
    "aci_service_name = 'turbofan-ml-rul-01'\n",
    "aci_service = Model.deploy(ws, aci_service_name, [model], inference_config, aci_config)\n",
    "aci_service.wait_for_deployment(True)\n",
    "\n",
    "print(aci_service_name)\n",
    "print(aci_service.state)"
   ]
  },
  {
   "cell_type": "code",
   "execution_count": null,
   "metadata": {},
   "outputs": [],
   "source": [
    "package = Model.package(\n",
    "    ws,\n",
    "    [model],\n",
    "    inference_config,\n",
    "    image_name='turbofanrul',\n",
    "    image_label='latest'\n",
    ")\n",
    "package.wait_for_creation(\n",
    "    show_output=True\n",
    ")  # Or show_output=False to hide the Docker build logs.\n",
    "# package.pull()\n",
    "# ---\n",
    "# Run the following commands using PowerShell on local client\n",
    "# az acr login -n c84d9a2415e14b138f935998a6fe0015\n",
    "# docker run -p 6789:5001 --name amltestrul3 25d637d844fb\n",
    "# Log in to Postman\n",
    "# Set the Postman client to POST\n",
    "# Use the following URL: http://localhost:6789/score\n",
    "# Set the Body to RAW/JSON\n",
    "# Execute the following data:\n",
    "# [\n",
    "#     {\n",
    "#         \"Sensor1\": 518.67,\n",
    "#         \"Sensor2\": 641.94,\n",
    "#         \"Sensor3\": 1581.93,\n",
    "#         \"Sensor4\": 1396.93,\n",
    "#         \"Sensor5\": 14.62,\n",
    "#         \"Sensor6\": 21.58,\n",
    "#         \"Sensor7\": 554.56,\n",
    "#         \"Sensor8\": 2387.93,\n",
    "#         \"Sensor9\": 9048.65,\n",
    "#         \"Sensor10\": 1.3,\n",
    "#         \"Sensor11\": 47.09,\n",
    "#         \"Sensor12\": 521.89,\n",
    "#         \"Sensor13\": 2387.94,\n",
    "#         \"Sensor14\": 8133.48,\n",
    "#         \"Sensor15\": 8.376,\n",
    "#         \"Sensor16\": 0.03,\n",
    "#         \"Sensor17\": 391,\n",
    "#         \"Sensor18\": 2388,\n",
    "#         \"Sensor19\": 100.0,\n",
    "#         \"Sensor20\": 39.07,\n",
    "#         \"Sensor21\": 23.4468\n",
    "#     }\n",
    "# ]"
   ]
  },
  {
   "cell_type": "markdown",
   "metadata": {},
   "source": [
    "## Load test data\n",
    "\n",
    "To save a couple of steps at this point, we serialized the test data that we loaded in the [turbofan regression](.01-turbofan_regression_predictive_maintenance_train) notebook. Here we deserialize that data to use it to test the web service."
   ]
  },
  {
   "cell_type": "code",
   "execution_count": null,
   "metadata": {},
   "outputs": [],
   "source": [
    "import pandas as pd\n",
    "from sklearn.externals import joblib\n",
    "import numpy\n",
    "\n",
    "test_df = pd.read_csv(\"data/WebServiceTest.csv\")\n",
    "\n",
    "test_df.head(5)"
   ]
  },
  {
   "cell_type": "markdown",
   "metadata": {},
   "source": [
    "## Predict one message at a time\n",
    "\n",
    "Once the container/model is deployed to and Azure IoT Edge device it will receive messages one at a time. Send a few messages in that mode to make sure everything is working."
   ]
  },
  {
   "cell_type": "code",
   "execution_count": null,
   "metadata": {},
   "outputs": [],
   "source": [
    "import json\n",
    "import pandas as pd\n",
    "\n",
    "# reformat data as list of messages\n",
    "X_message = test_df.head(5).to_dict('record')\n",
    "\n",
    "cols_feature = ['Sensor'+str(i) for i in range(1,22)]\n",
    "\n",
    "result_list = []\n",
    "\n",
    "for row in X_message:\n",
    "    row_features = { k: row[k] for k in cols_feature }\n",
    "    row_data = json.dumps({ 'data' : [ row_features ]})\n",
    "    row_result = aci_service.run(input_data=row_data)\n",
    "    result_list.append(json.loads(row_result))\n",
    "    \n",
    "print(result_list)"
   ]
  },
  {
   "cell_type": "markdown",
   "metadata": {},
   "source": [
    "## Predict message set\n",
    "\n",
    "To make sure the model as a whole is working as expected, we send the test set in bulk to the model"
   ]
  },
  {
   "cell_type": "code",
   "execution_count": null,
   "metadata": {},
   "outputs": [],
   "source": [
    "import json\n",
    "import pandas as pd\n",
    "\n",
    "# reformat data as list of messages\n",
    "X_message = test_df.head(5).to_dict('record')\n",
    "\n",
    "cols_feature = ['Sensor'+str(i) for i in range(1,22)]\n",
    "\n",
    "input_data = { 'data': [] }\n",
    "\n",
    "for row in X_message:\n",
    "    row_features = { k: row[k] for k in cols_feature }\n",
    "    input_data['data'].append(row_features)\n",
    "\n",
    "input_data = json.dumps(input_data)\n",
    "    \n",
    "result = aci_service.run(input_data=input_data)\n",
    "    \n",
    "print(result)"
   ]
  },
  {
   "cell_type": "markdown",
   "metadata": {},
   "source": [
    "## Delete web service\n",
    "\n",
    "Now that we are confident that our container and model are working well, delete the web service."
   ]
  },
  {
   "cell_type": "code",
   "execution_count": null,
   "metadata": {},
   "outputs": [],
   "source": [
    "from azureml.core.webservice import Webservice\n",
    "\n",
    "aci_service = Webservice(ws, aci_service_name)\n",
    "\n",
    "aci_service.delete()"
   ]
  },
  {
   "cell_type": "code",
   "execution_count": null,
   "metadata": {},
   "outputs": [],
   "source": []
  }
 ],
 "metadata": {
  "kernelspec": {
   "display_name": "Python 3.6 - AzureML",
   "language": "python",
   "name": "python3-azureml"
  },
  "language_info": {
   "codemirror_mode": {
    "name": "ipython",
    "version": 3
   },
   "file_extension": ".py",
   "mimetype": "text/x-python",
   "name": "python",
   "nbconvert_exporter": "python",
   "pygments_lexer": "ipython3",
   "version": "3.6.9"
  }
 },
 "nbformat": 4,
 "nbformat_minor": 1
}
