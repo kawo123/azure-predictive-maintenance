{
 "cells": [
  {
   "cell_type": "markdown",
   "metadata": {},
   "source": [
    "# Introduction\n",
    "\n",
    "In this notebook, we demonstrate the steps needed to create an IoT Edge deployable module from the regression model created in the [turbofan regression](./01-turbofan_regression_predictive_maintenance_train.ipynb) notebook. The steps we will follow are:\n",
    "   1. Reload experiment and model from the Azure Machine Learning service workspace\n",
    "   1. Create a scoring script\n",
    "   1. Create an environment YAML file\n",
    "   1. Create a container image using the model, scoring script and YAML file\n",
    "   1. Deploy the container image as a web service \n",
    "   1. Test the web service to make sure the container works as expected\n",
    "   1. Delete the web service\n",
    "   \n",
    "><font color=gray>Note: this notebook depends on the workspace, experiment and model created in the [turbofan regression](./01-turbofan_regression_predictive_maintenance_train) notebook.</font>"
   ]
  },
  {
   "cell_type": "markdown",
   "metadata": {},
   "source": [
    "# Set up notebook\n",
    "\n",
    "Please ensure that you are running this notebook under the Python 3.6 Kernel. The current kernel is show on the top of the notebook at the far right side of the file menu. If you are not running Python 3.6 you can change it in the file menu by clicking **Kernel->Change Kernel->Python 3.6**"
   ]
  },
  {
   "cell_type": "code",
   "execution_count": null,
   "metadata": {},
   "outputs": [],
   "source": [
    "from IPython.core.interactiveshell import InteractiveShell\n",
    "InteractiveShell.ast_node_interactivity = \"all\"\n",
    "\n",
    "%matplotlib inline"
   ]
  },
  {
   "cell_type": "markdown",
   "metadata": {},
   "source": [
    "## Configure workspace\n",
    "\n",
    "Create a workspace object from the existing workspace. `Workspace.from_config()` reads the file **aml_config/.azureml/config.json** and loads the details into an object named `ws`, which is used throughout the rest of the code in this notebook."
   ]
  },
  {
   "cell_type": "code",
   "execution_count": null,
   "metadata": {},
   "outputs": [],
   "source": [
    "from azureml.core.workspace import Workspace\n",
    "from azureml.core.experiment import Experiment\n",
    "from azureml.core.model import Model\n",
    "from azureml.train.automl.run import AutoMLRun\n",
    "\n",
    "ws = Workspace.from_config()"
   ]
  },
  {
   "cell_type": "markdown",
   "metadata": {},
   "source": [
    "## Load run, experiment and model\n",
    "\n",
    "Use the model information that we persisted in the [turbofan regression](./01-turbofan_regression_predictive_maintenance_train) noebook to load our model."
   ]
  },
  {
   "cell_type": "code",
   "execution_count": null,
   "metadata": {},
   "outputs": [],
   "source": [
    "import json \n",
    "\n",
    "#name project folder and experiment\n",
    "model_data = json.load(open('./model_config.json'))\n",
    "\n",
    "run_id = model_data['regressionRunId']\n",
    "experiment_name = model_data['experimentName']\n",
    "model_id = model_data['modelId']\n",
    "\n",
    "experiment = Experiment(ws, experiment_name)\n",
    "automl_run = AutoMLRun(experiment = experiment, run_id = run_id)\n",
    "model = Model(ws, model_id)"
   ]
  },
  {
   "cell_type": "markdown",
   "metadata": {},
   "source": [
    "## Create YAML file for the environment\n",
    "\n",
    "The YAML file provides the information about the dependencies for the model we will deploy. \n",
    "\n",
    "### Get azureml versions\n",
    "\n",
    "First we will use the run to retrieve the version of the azureml packages used to train the model. \n",
    "\n",
    ">Warnings about the version of the SDK not matching with the training version are expected "
   ]
  },
  {
   "cell_type": "code",
   "execution_count": null,
   "metadata": {},
   "outputs": [],
   "source": [
    "best_run, fitted_model = automl_run.get_output()\n",
    "iteration = int(best_run.get_properties()['iteration'])\n",
    "dependencies = automl_run.get_run_sdk_dependencies(iteration = iteration)\n",
    "\n",
    "print(dependencies)"
   ]
  },
  {
   "cell_type": "markdown",
   "metadata": {},
   "source": [
    "## Deploy model as a web service on Azure Container Instance\n",
    "\n",
    "Deploy the best model we just created as web service on Azure Container Instance (ACI). We will use this web service to test that our model/container performs as expected. "
   ]
  },
  {
   "cell_type": "code",
   "execution_count": null,
   "metadata": {},
   "outputs": [],
   "source": [
    "script_file_name = 'score_turboban_rul.py'\n",
    "best_run.download_file('outputs/scoring_file_v_1_0_0.py', script_file_name)"
   ]
  },
  {
   "cell_type": "code",
   "execution_count": null,
   "metadata": {},
   "outputs": [],
   "source": [
    "from azureml.core.model import InferenceConfig\n",
    "from azureml.core.webservice import AciWebservice\n",
    "from azureml.core.webservice import Webservice\n",
    "from azureml.core.model import Model\n",
    "\n",
    "inference_config = InferenceConfig(environment = best_run.get_environment(), \n",
    "                                   entry_script = script_file_name)\n",
    "\n",
    "aci_config = AciWebservice.deploy_configuration(cpu_cores = 1, \n",
    "                                                memory_gb = 1, \n",
    "                                                tags = {'area': \"digits\", 'type': \"automl_RUL\"}, \n",
    "                                                description = 'test service for Edge ML RUL')\n",
    "\n",
    "aci_service_name = 'turbofan-ml-rul-01'\n",
    "aci_service = Model.deploy(ws, aci_service_name, [model], inference_config, aci_config)\n",
    "aci_service.wait_for_deployment(True)\n",
    "\n",
    "print(aci_service_name)\n",
    "print(aci_service.state)"
   ]
  },
  {
   "cell_type": "code",
   "execution_count": null,
   "metadata": {},
   "outputs": [],
   "source": [
    "package = Model.package(\n",
    "    ws,\n",
    "    [model],\n",
    "    inference_config,\n",
    "    image_name='turbofanrul',\n",
    "    image_label='latest'\n",
    ")\n",
    "package.wait_for_creation(\n",
    "    show_output=True\n",
    ")  # Or show_output=False to hide the Docker build logs.\n",
    "# package.pull()\n",
    "# ---\n",
    "# Run the following commands using PowerShell on local client\n",
    "# az acr login -n c84d9a2415e14b138f935998a6fe0015\n",
    "# docker run -p 6789:5001 --name amltestrul3 25d637d844fb\n",
    "# Log in to Postman\n",
    "# Set the Postman client to POST\n",
    "# Use the following URL: http://localhost:6789/score\n",
    "# Set the Body to RAW/JSON\n",
    "# Execute the following data:\n",
    "# [\n",
    "#     {\n",
    "#         \"Sensor1\": 518.67,\n",
    "#         \"Sensor2\": 641.94,\n",
    "#         \"Sensor3\": 1581.93,\n",
    "#         \"Sensor4\": 1396.93,\n",
    "#         \"Sensor5\": 14.62,\n",
    "#         \"Sensor6\": 21.58,\n",
    "#         \"Sensor7\": 554.56,\n",
    "#         \"Sensor8\": 2387.93,\n",
    "#         \"Sensor9\": 9048.65,\n",
    "#         \"Sensor10\": 1.3,\n",
    "#         \"Sensor11\": 47.09,\n",
    "#         \"Sensor12\": 521.89,\n",
    "#         \"Sensor13\": 2387.94,\n",
    "#         \"Sensor14\": 8133.48,\n",
    "#         \"Sensor15\": 8.376,\n",
    "#         \"Sensor16\": 0.03,\n",
    "#         \"Sensor17\": 391,\n",
    "#         \"Sensor18\": 2388,\n",
    "#         \"Sensor19\": 100.0,\n",
    "#         \"Sensor20\": 39.07,\n",
    "#         \"Sensor21\": 23.4468\n",
    "#     }\n",
    "# ]"
   ]
  },
  {
   "cell_type": "markdown",
   "metadata": {},
   "source": [
    "## Load test data\n",
    "\n",
    "To save a couple of steps at this point, we serialized the test data that we loaded in the [turbofan regression](.01-turbofan_regression_predictive_maintenance_train) notebook. Here we deserialize that data to use it to test the web service."
   ]
  },
  {
   "cell_type": "code",
   "execution_count": null,
   "metadata": {},
   "outputs": [],
   "source": [
    "import pandas as pd\n",
    "from sklearn.externals import joblib\n",
    "import numpy\n",
    "\n",
    "test_df = pd.read_csv(\"data/WebServiceTest.csv\")\n",
    "\n",
    "test_df.head(5)"
   ]
  },
  {
   "cell_type": "markdown",
   "metadata": {},
   "source": [
    "## Predict one message at a time\n",
    "\n",
    "Once the container/model is deployed to and Azure IoT Edge device it will receive messages one at a time. Send a few messages in that mode to make sure everything is working."
   ]
  },
  {
   "cell_type": "code",
   "execution_count": null,
   "metadata": {},
   "outputs": [],
   "source": [
    "import json\n",
    "import pandas as pd\n",
    "\n",
    "# reformat data as list of messages\n",
    "X_message = test_df.head(5).to_dict('record')\n",
    "\n",
    "cols_feature = ['Sensor'+str(i) for i in range(1,22)]\n",
    "\n",
    "result_list = []\n",
    "\n",
    "for row in X_message:\n",
    "    row_features = { k: row[k] for k in cols_feature }\n",
    "    row_data = json.dumps({ 'data' : [ row_features ]})\n",
    "    row_result = aci_service.run(input_data=row_data)\n",
    "    result_list.append(json.loads(row_result))\n",
    "    \n",
    "print(result_list)"
   ]
  },
  {
   "cell_type": "markdown",
   "metadata": {},
   "source": [
    "## Predict message set\n",
    "\n",
    "To make sure the model as a whole is working as expected, we send the test set in bulk to the model"
   ]
  },
  {
   "cell_type": "code",
   "execution_count": null,
   "metadata": {},
   "outputs": [],
   "source": [
    "import json\n",
    "import pandas as pd\n",
    "\n",
    "# reformat data as list of messages\n",
    "X_message = test_df.head(5).to_dict('record')\n",
    "\n",
    "cols_feature = ['Sensor'+str(i) for i in range(1,22)]\n",
    "\n",
    "input_data = { 'data': [] }\n",
    "\n",
    "for row in X_message:\n",
    "    row_features = { k: row[k] for k in cols_feature }\n",
    "    input_data['data'].append(row_features)\n",
    "\n",
    "input_data = json.dumps(input_data)\n",
    "    \n",
    "result = aci_service.run(input_data=input_data)\n",
    "    \n",
    "print(result)"
   ]
  },
  {
   "cell_type": "markdown",
   "metadata": {},
   "source": [
    "## Delete web service\n",
    "\n",
    "Now that we are confident that our container and model are working well, delete the web service."
   ]
  },
  {
   "cell_type": "code",
   "execution_count": null,
   "metadata": {},
   "outputs": [],
   "source": [
    "from azureml.core.webservice import Webservice\n",
    "\n",
    "aci_service = Webservice(ws, aci_service_name)\n",
    "\n",
    "aci_service.delete()"
   ]
  },
  {
   "cell_type": "code",
   "execution_count": null,
   "metadata": {},
   "outputs": [],
   "source": []
  }
 ],
 "metadata": {
  "kernelspec": {
   "display_name": "Python 3.6 - AzureML",
   "language": "python",
   "name": "python3-azureml"
  },
  "language_info": {
   "codemirror_mode": {
    "name": "ipython",
    "version": 3
   },
   "file_extension": ".py",
   "mimetype": "text/x-python",
   "name": "python",
   "nbconvert_exporter": "python",
   "pygments_lexer": "ipython3",
   "version": "3.6.9"
  }
 },
 "nbformat": 4,
 "nbformat_minor": 4
}
